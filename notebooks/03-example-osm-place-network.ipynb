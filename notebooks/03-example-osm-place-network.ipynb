{
 "cells": [
  {
   "cell_type": "markdown",
   "metadata": {},
   "source": [
    "# Use OSMnx to get street networks by place name\n",
    "\n",
    "Author: [Geoff Boeing](https://geoffboeing.com/)\n",
    "\n",
    "  - [Overview of OSMnx](http://geoffboeing.com/2016/11/osmnx-python-street-networks/)\n",
    "  - [GitHub repo](https://github.com/gboeing/osmnx)\n",
    "  - [Examples, demos, tutorials](https://github.com/gboeing/osmnx-examples)\n",
    "  - [Documentation](https://osmnx.readthedocs.io/en/stable/)\n",
    "  - [Journal article/citation](http://geoffboeing.com/publications/osmnx-complex-street-networks/)"
   ]
  },
  {
   "cell_type": "code",
   "execution_count": null,
   "metadata": {},
   "outputs": [],
   "source": [
    "import osmnx as ox\n",
    "%matplotlib inline\n",
    "ox.config(log_console=True, use_cache=True)\n",
    "ox.__version__"
   ]
  },
  {
   "cell_type": "code",
   "execution_count": null,
   "metadata": {},
   "outputs": [],
   "source": [
    "# get the walking network for piedmont\n",
    "G = ox.graph_from_place('Piedmont, California, USA', network_type='walk')\n",
    "fig, ax = ox.plot_graph(G)"
   ]
  },
  {
   "cell_type": "code",
   "execution_count": null,
   "metadata": {},
   "outputs": [],
   "source": [
    "# project the network to an appropriate UTM (automatically determined)\n",
    "G_projected = ox.project_graph(G)\n",
    "\n",
    "# you can also plot/save figures as SVGs to work with in Illustrator later\n",
    "fig, ax = ox.plot_graph(G_projected, save=True, file_format='svg')"
   ]
  },
  {
   "cell_type": "code",
   "execution_count": null,
   "metadata": {},
   "outputs": [],
   "source": [
    "# you can also create a network with a buffer distance (meters) around the place\n",
    "G = ox.graph_from_place('Piedmont, California, USA', network_type='walk', buffer_dist=200)\n",
    "fig, ax = ox.plot_graph(ox.project_graph(G))"
   ]
  },
  {
   "cell_type": "markdown",
   "metadata": {},
   "source": [
    "If you have a very large network (ie, large city or metropolitan-scale), it will be much faster to project the graph first, *then* simplify its topology."
   ]
  },
  {
   "cell_type": "code",
   "execution_count": null,
   "metadata": {},
   "outputs": [],
   "source": [
    "# create a network from multiple places\n",
    "places = ['Piedmont, California, USA', \n",
    "          'Berkeley, California, USA',\n",
    "          'Emeryville, California, USA']\n",
    "\n",
    "# use retain_all if you want to keep all disconnected subgraphs (e.g. when your places aren't adjacent)\n",
    "G = ox.graph_from_place(places, network_type='drive', retain_all=True)\n",
    "fig, ax = ox.plot_graph(G, save=True, filename='places')"
   ]
  },
  {
   "cell_type": "code",
   "execution_count": null,
   "metadata": {},
   "outputs": [],
   "source": [
    "# save network to disk as GraphML file\n",
    "ox.save_graphml(G, filename='berkeley-emeryville-piedmont.graphml')\n",
    "\n",
    "# or save graph to disk as ESRI shapefile\n",
    "ox.save_graph_shapefile(G, filename='berkeley-emeryville-piedmont')"
   ]
  },
  {
   "cell_type": "code",
   "execution_count": null,
   "metadata": {},
   "outputs": [],
   "source": [
    "# you can also create a network with a buffer distance (meters) around the list of places\n",
    "G = ox.graph_from_place(places, network_type='drive', retain_all=True, buffer_dist=500)\n",
    "fig, ax = ox.plot_graph(G)"
   ]
  },
  {
   "cell_type": "code",
   "execution_count": null,
   "metadata": {},
   "outputs": [],
   "source": [
    "# or create a network from structured place queries\n",
    "#places = [{'city':'Daly City', 'state':'California'}, \n",
    "         #{'city':'South San Francisco', 'state':'California'}]\n",
    "places = ['London Borough of Camden',\n",
    "          'Royal Borough of Greenwich',\n",
    "          'London Borough of Hackney',\n",
    "          'London Borough of Hammersmith and Fulham',\n",
    "          'London Borough of Islington',\n",
    "          'Royal Borough of Kensington and Chelsea',\n",
    "          'London Borough of Lambeth',\n",
    "          'London Borough of Lewisham',\n",
    "          'London Borough of Southwark',\n",
    "          'London Borough of Tower Hamlets',\n",
    "          'London Borough of Wandsworth',\n",
    "          'City of Westminster']\n",
    "G = ox.graph_from_place(places, network_type='drive', buffer_dist=250)\n",
    "fig, ax = ox.plot_graph(G, node_size=0)\n",
    "fig.savefig('images/network.png', dpi=750, bbox_inches='tight')"
   ]
  },
  {
   "cell_type": "code",
   "execution_count": null,
   "metadata": {},
   "outputs": [],
   "source": [
    "# get the network for manhattan\n",
    "G = ox.graph_from_place('Manhattan, New York, New York, USA', network_type='drive')\n",
    "fig, ax = ox.plot_graph(G, fig_height=6, node_size=2, node_alpha=0.5,\n",
    "                        edge_linewidth=0.3, save=True, dpi=100, filename='manhattan')"
   ]
  },
  {
   "cell_type": "code",
   "execution_count": null,
   "metadata": {},
   "outputs": [],
   "source": [
    "# get the network for all of LA - takes a couple minutes to do all the downloading and processing\n",
    "place = 'Los Angeles, Los Angeles County, California, USA'\n",
    "G = ox.graph_from_place(place, network_type='drive_service', simplify=False, retain_all=True)\n",
    "fig, ax = ox.plot_graph(G, node_size=0, edge_linewidth=0.1, save=True, filename='la')"
   ]
  },
  {
   "cell_type": "markdown",
   "metadata": {},
   "source": [
    "Note that if you want a projected network, it's usually faster for large cities to say simplify=False, then project the graph, then simplify it. Projecting a simplified graph with spatial geometries embedded as edge attributes can take a *long* time in large networks."
   ]
  },
  {
   "cell_type": "code",
   "execution_count": null,
   "metadata": {},
   "outputs": [],
   "source": [
    "# create a network constrained to the shape of hong kong island\n",
    "G = ox.graph_from_place('Hong Kong Island', network_type='drive')\n",
    "\n",
    "# project the network to UTM (zone calculated automatically) then plot it\n",
    "G_projected = ox.project_graph(G)\n",
    "fig, ax = ox.plot_graph(G_projected)"
   ]
  },
  {
   "cell_type": "code",
   "execution_count": null,
   "metadata": {},
   "outputs": [],
   "source": []
  }
 ],
 "metadata": {
  "anaconda-cloud": {},
  "kernelspec": {
   "display_name": "Python (ox)",
   "language": "python",
   "name": "ox"
  },
  "language_info": {
   "codemirror_mode": {
    "name": "ipython",
    "version": 3
   },
   "file_extension": ".py",
   "mimetype": "text/x-python",
   "name": "python",
   "nbconvert_exporter": "python",
   "pygments_lexer": "ipython3",
   "version": "3.8.2"
  }
 },
 "nbformat": 4,
 "nbformat_minor": 4
}
